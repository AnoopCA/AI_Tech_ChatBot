{
 "cells": [
  {
   "cell_type": "code",
   "execution_count": 9,
   "metadata": {},
   "outputs": [],
   "source": [
    "import pandas as pd\n",
    "import torch\n",
    "from gensim.models import KeyedVectors\n",
    "import warnings\n",
    "\n",
    "warnings.filterwarnings('ignore')"
   ]
  },
  {
   "cell_type": "code",
   "execution_count": 6,
   "metadata": {},
   "outputs": [],
   "source": [
    "gpt_data = pd.read_csv(r'D:\\ML_Projects\\AI_Tech_ChatBot\\Data\\ChatGPT_chatlogs\\GPT_chatlogs_all.csv')\n",
    "word2vec_model = KeyedVectors.load_word2vec_format(r'D:\\ML_Projects\\Vehicle_Insurance_Claims_Prediction\\models\\GoogleNews-vectors-negative300.bin', binary=True)"
   ]
  },
  {
   "cell_type": "code",
   "execution_count": 4,
   "metadata": {},
   "outputs": [
    {
     "data": {
      "text/plain": [
       "['What', 'is', 'contrastive', 'loss']"
      ]
     },
     "execution_count": 4,
     "metadata": {},
     "output_type": "execute_result"
    }
   ],
   "source": [
    "gpt_data['Question'][0].split()"
   ]
  },
  {
   "cell_type": "code",
   "execution_count": 7,
   "metadata": {},
   "outputs": [],
   "source": [
    "def get_word_vector(words):\n",
    "    try:\n",
    "        return torch.tensor([word2vec_model[word] for word in words], dtype=torch.float)\n",
    "    except KeyError:\n",
    "        return torch.zeros(word2vec_model.vector_size, dtype=torch.float)"
   ]
  },
  {
   "cell_type": "code",
   "execution_count": null,
   "metadata": {},
   "outputs": [],
   "source": [
    "vec = []\n",
    "print_lim = 0\n",
    "for i in range(len(gpt_data)):\n",
    "    if print_lim == 1:\n",
    "        break\n",
    "    words = gpt_data['Question'][i].split()\n",
    "    vec.append(get_word_vector(words))\n",
    "    #list(map(lambda w: get_word_vector(w), words))\n",
    "    print_lim+=1\n",
    "\n",
    "    print(\"actual word: \", gpt_data['Question'][i].split()[1],\n",
    "        \"Predicted word: \", word2vec_model.similar_by_vector(get_word_vector(gpt_data['Question'][i].split()), topn=1)[0])"
   ]
  },
  {
   "cell_type": "code",
   "execution_count": 11,
   "metadata": {},
   "outputs": [
    {
     "name": "stdout",
     "output_type": "stream",
     "text": [
      "tensor([[-0.0231,  0.1533,  0.1523,  ...,  0.1445,  0.1328, -0.0859],\n",
      "        [ 0.0070, -0.0732,  0.1719,  ...,  0.0112,  0.1641,  0.1069],\n",
      "        [-0.0072, -0.0791,  0.1069,  ..., -0.0269, -0.0322,  0.2070],\n",
      "        [ 0.0747,  0.1553, -0.0007,  ..., -0.0547, -0.0461, -0.1118]])\n",
      "tensor([[ 0.1533,  0.1230,  0.1650,  ..., -0.2871, -0.3125,  0.1318],\n",
      "        [-0.0179,  0.1172,  0.0527,  ..., -0.0332,  0.1494, -0.1191],\n",
      "        [ 0.0073,  0.1006, -0.0601,  ..., -0.0669,  0.0400, -0.0610],\n",
      "        ...,\n",
      "        [-0.0118, -0.0474,  0.0447,  ...,  0.0713, -0.0349,  0.0242],\n",
      "        [-0.0072, -0.0791,  0.1069,  ..., -0.0269, -0.0322,  0.2070],\n",
      "        [-0.0884,  0.1484, -0.0630,  ...,  0.0203,  0.1162,  0.1758]])\n",
      "tensor([0., 0., 0., 0., 0., 0., 0., 0., 0., 0., 0., 0., 0., 0., 0., 0., 0., 0., 0., 0., 0., 0., 0., 0.,\n",
      "        0., 0., 0., 0., 0., 0., 0., 0., 0., 0., 0., 0., 0., 0., 0., 0., 0., 0., 0., 0., 0., 0., 0., 0.,\n",
      "        0., 0., 0., 0., 0., 0., 0., 0., 0., 0., 0., 0., 0., 0., 0., 0., 0., 0., 0., 0., 0., 0., 0., 0.,\n",
      "        0., 0., 0., 0., 0., 0., 0., 0., 0., 0., 0., 0., 0., 0., 0., 0., 0., 0., 0., 0., 0., 0., 0., 0.,\n",
      "        0., 0., 0., 0., 0., 0., 0., 0., 0., 0., 0., 0., 0., 0., 0., 0., 0., 0., 0., 0., 0., 0., 0., 0.,\n",
      "        0., 0., 0., 0., 0., 0., 0., 0., 0., 0., 0., 0., 0., 0., 0., 0., 0., 0., 0., 0., 0., 0., 0., 0.,\n",
      "        0., 0., 0., 0., 0., 0., 0., 0., 0., 0., 0., 0., 0., 0., 0., 0., 0., 0., 0., 0., 0., 0., 0., 0.,\n",
      "        0., 0., 0., 0., 0., 0., 0., 0., 0., 0., 0., 0., 0., 0., 0., 0., 0., 0., 0., 0., 0., 0., 0., 0.,\n",
      "        0., 0., 0., 0., 0., 0., 0., 0., 0., 0., 0., 0., 0., 0., 0., 0., 0., 0., 0., 0., 0., 0., 0., 0.,\n",
      "        0., 0., 0., 0., 0., 0., 0., 0., 0., 0., 0., 0., 0., 0., 0., 0., 0., 0., 0., 0., 0., 0., 0., 0.,\n",
      "        0., 0., 0., 0., 0., 0., 0., 0., 0., 0., 0., 0., 0., 0., 0., 0., 0., 0., 0., 0., 0., 0., 0., 0.,\n",
      "        0., 0., 0., 0., 0., 0., 0., 0., 0., 0., 0., 0., 0., 0., 0., 0., 0., 0., 0., 0., 0., 0., 0., 0.,\n",
      "        0., 0., 0., 0., 0., 0., 0., 0., 0., 0., 0., 0.])\n",
      "tensor([[-0.0231,  0.1533,  0.1523,  ...,  0.1445,  0.1328, -0.0859],\n",
      "        [ 0.0070, -0.0732,  0.1719,  ...,  0.0112,  0.1641,  0.1069],\n",
      "        [ 0.0801,  0.1050,  0.0498,  ...,  0.0037,  0.0476, -0.0688],\n",
      "        ...,\n",
      "        [ 0.0703,  0.0869,  0.0879,  ..., -0.0476,  0.0145, -0.0625],\n",
      "        [-0.0072, -0.0791,  0.1069,  ..., -0.0269, -0.0322,  0.2070],\n",
      "        [-0.0884,  0.1484, -0.0630,  ...,  0.0203,  0.1162,  0.1758]])\n"
     ]
    }
   ],
   "source": [
    "for i in range(4):\n",
    "    print(get_word_vector(gpt_data['Question'][i].split()))"
   ]
  },
  {
   "cell_type": "code",
   "execution_count": null,
   "metadata": {},
   "outputs": [],
   "source": [
    "word2vec_model.similar_by_vector(get_word_vector(gpt_data['Question'][i].split()), topn=1)"
   ]
  },
  {
   "cell_type": "code",
   "execution_count": 13,
   "metadata": {},
   "outputs": [],
   "source": [
    "import numpy as np\n",
    "import pandas as pd\n",
    "from gensim.models import KeyedVectors"
   ]
  },
  {
   "cell_type": "code",
   "execution_count": 14,
   "metadata": {},
   "outputs": [],
   "source": [
    "word2vec_model = KeyedVectors.load_word2vec_format(r'D:\\ML_Projects\\Vehicle_Insurance_Claims_Prediction\\models\\GoogleNews-vectors-negative300.bin', binary=True)\n",
    "\n",
    "def get_word_vector(word):\n",
    "    try:\n",
    "        return word2vec_model[word]\n",
    "    except KeyError:\n",
    "        return np.zeros(300)\n",
    "\n",
    "gpt_data = pd.read_csv(r'D:\\ML_Projects\\AI_Tech_ChatBot\\Data\\ChatGPT_chatlogs\\GPT_chatlogs_all.csv')\n",
    "\n",
    "vec = []\n",
    "for i in range(len(gpt_data)):\n",
    "    words = gpt_data['Question'][i].split()\n",
    "    vec.append([get_word_vector(w) for w in words])"
   ]
  },
  {
   "cell_type": "code",
   "execution_count": 32,
   "metadata": {},
   "outputs": [
    {
     "name": "stdout",
     "output_type": "stream",
     "text": [
      "Ok. But what about human resourse department, finance department and other managerial department\n",
      "13\n",
      "300\n"
     ]
    }
   ],
   "source": [
    "print(gpt_data['Question'][100000])\n",
    "print(len(vec[100000]))\n",
    "print(len(vec[100000][12]))"
   ]
  },
  {
   "cell_type": "code",
   "execution_count": 24,
   "metadata": {},
   "outputs": [
    {
     "data": {
      "text/plain": [
       "383234"
      ]
     },
     "execution_count": 24,
     "metadata": {},
     "output_type": "execute_result"
    }
   ],
   "source": [
    "len(gpt_data)"
   ]
  },
  {
   "cell_type": "code",
   "execution_count": 40,
   "metadata": {},
   "outputs": [
    {
     "name": "stdout",
     "output_type": "stream",
     "text": [
      "What is contrastive loss\n"
     ]
    }
   ],
   "source": [
    "import pandas as pd\n",
    "gpt_data = pd.read_csv(r'D:\\ML_Projects\\AI_Tech_ChatBot\\Data\\ChatGPT_chatlogs\\GPT_chatlogs_all.csv')\n",
    "\n",
    "for i in range(len(gpt_data)):\n",
    "    print(gpt_data['Question'][i])\n",
    "    break"
   ]
  },
  {
   "cell_type": "code",
   "execution_count": null,
   "metadata": {},
   "outputs": [],
   "source": []
  }
 ],
 "metadata": {
  "kernelspec": {
   "display_name": "chatbot",
   "language": "python",
   "name": "python3"
  },
  "language_info": {
   "codemirror_mode": {
    "name": "ipython",
    "version": 3
   },
   "file_extension": ".py",
   "mimetype": "text/x-python",
   "name": "python",
   "nbconvert_exporter": "python",
   "pygments_lexer": "ipython3",
   "version": "3.11.5"
  }
 },
 "nbformat": 4,
 "nbformat_minor": 2
}
